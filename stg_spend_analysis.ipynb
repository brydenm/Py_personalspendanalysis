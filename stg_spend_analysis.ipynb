{
 "metadata": {
  "language_info": {
   "codemirror_mode": {
    "name": "ipython",
    "version": 3
   },
   "file_extension": ".py",
   "mimetype": "text/x-python",
   "name": "python",
   "nbconvert_exporter": "python",
   "pygments_lexer": "ipython3",
   "version": "3.9.2-final"
  },
  "orig_nbformat": 2,
  "kernelspec": {
   "name": "python3",
   "display_name": "Python 3.9.2 64-bit",
   "metadata": {
    "interpreter": {
     "hash": "9238c70a6901c26883a6d00de4dac234c12d1b445cb2907b6e082262809f64e4"
    }
   }
  }
 },
 "nbformat": 4,
 "nbformat_minor": 2,
 "cells": [
  {
   "source": [
    "# Analysis on Personal Spending\n",
    "\n",
    "### Import bank transactions\n",
    "### Extrapolate into the future\n",
    "\n",
    "notes: \n",
    "Opting to split between loan and transaction accounts believe the latter can be analysed to best analyse spending"
   ],
   "cell_type": "markdown",
   "metadata": {}
  },
  {
   "source": [],
   "cell_type": "markdown",
   "metadata": {}
  },
  {
   "cell_type": "code",
   "execution_count": 103,
   "metadata": {},
   "outputs": [],
   "source": [
    "import pandas as pd\n",
    "import os\n",
    "import matplotlib.pyplot as plt\n",
    "import seaborn as sns"
   ]
  },
  {
   "cell_type": "code",
   "execution_count": 104,
   "metadata": {},
   "outputs": [
    {
     "output_type": "stream",
     "name": "stdout",
     "text": [
      "import file:  C:\\Users\\mcleodb\\Documents\\SpendFiles 20210405\\creditcard trans050421.csv\nimport file:  C:\\Users\\mcleodb\\Documents\\SpendFiles 20210405\\export.csv\nimport file:  C:\\Users\\mcleodb\\Documents\\SpendFiles 20210405\\loan fixed trans050421.csv\nimport file:  C:\\Users\\mcleodb\\Documents\\SpendFiles 20210405\\loan variable trans050421.csv\nimport file:  C:\\Users\\mcleodb\\Documents\\SpendFiles 20210405\\savings trans050421.csv\n"
     ]
    }
   ],
   "source": [
    "#issues with two files (credit card + savingss) having values containing commas, breaking out the value to multiple columns and causing errors\n",
    "#manually opening the CSV files and correctin - would be to automate the correctin of these catw\n",
    "#ideally I'd export in a different format, or rpelace the commas before epxortin  but neither are possible in this case\n",
    "\n",
    "#folder containing one or more csv file to import\n",
    "inputfolder = 'C:\\\\Users\\\\mcleodb\\\\Documents\\\\SpendFiles 20210405\\\\'\n",
    "os.chdir(inputfolder)\n",
    "files = os.listdir()\n",
    "templist = []\n",
    "#import each file to temp dataframe and append to the main one - adding column to capture the source\n",
    "for i in files:\n",
    "    loc = inputfolder + i\n",
    "    print('import file: ',loc)\n",
    "    tempdf = pd.read_csv(loc)\n",
    "    tempdf['sourcefile'] = i\n",
    "    templist.append(tempdf)\n",
    "    dfraw = pd.concat(templist)"
   ]
  },
  {
   "cell_type": "code",
   "execution_count": 105,
   "metadata": {},
   "outputs": [],
   "source": [
    "#data cleaning - formatting dates, and consolidating debit/credit to single column\n",
    "dfraw['Debit_neg'] = dfraw['Debit'] * -1\n",
    "dfraw['amount'] = dfraw[['Debit_neg','Credit']].sum(axis=1)\n",
    "df_all = dfraw[['Description', 'amount', 'Category',\n",
    "       'SubCategory', 'sourcefile']].copy() \n",
    "df_all['date'] = pd.to_datetime(dfraw['Date'],format=r'%Y%m%d')\n",
    "\n",
    "#I like the idea of having a column to denote if charge is a debit or credit\n",
    "df_all['charge'] = df_all.amount.apply(lambda x: 'debit' if x <= 0 else 'credit')\n",
    "#filter after 1/5/20 to exclude some initial loan transfers which are not meaningful for this analysis\n",
    "df_all = df[df['date'] >= '2020-05-01']\n",
    "df.to_csv('export.csv')\n"
   ]
  },
  {
   "cell_type": "code",
   "execution_count": 106,
   "metadata": {},
   "outputs": [],
   "source": [
    "df_spend = df[df['sourcefile'].str.match('sav')]\n",
    "df_spend = df_spend.append(df[df['sourcefile'].str.match('credit')])"
   ]
  },
  {
   "cell_type": "code",
   "execution_count": 117,
   "metadata": {},
   "outputs": [],
   "source": [
    "df_spend.set_index('date', inplace=True)    "
   ]
  },
  {
   "cell_type": "code",
   "execution_count": 126,
   "metadata": {},
   "outputs": [
    {
     "output_type": "error",
     "ename": "AttributeError",
     "evalue": "'DatetimeIndexResampler' object has no attribute 'rolling'",
     "traceback": [
      "Traceback \u001b[1;36m(most recent call last)\u001b[0m:\n",
      "  File \u001b[0;32m\"<ipython-input-126-ada9e4bddde4>\"\u001b[0m, line \u001b[0;32m1\u001b[0m, in \u001b[0;35m<module>\u001b[0m\n    df_spend.resample('W').rolling(5).sum().plot()\n",
      "\u001b[1;36m  File \u001b[1;32m\"C:\\Users\\mcleodb\\AppData\\Local\\Programs\\Python\\Python39\\lib\\site-packages\\pandas\\core\\resample.py\"\u001b[1;36m, line \u001b[1;32m124\u001b[1;36m, in \u001b[1;35m__getattr__\u001b[1;36m\u001b[0m\n\u001b[1;33m    return object.__getattribute__(self, attr)\u001b[0m\n",
      "\u001b[1;31mAttributeError\u001b[0m\u001b[1;31m:\u001b[0m 'DatetimeIndexResampler' object has no attribute 'rolling'\n"
     ]
    }
   ],
   "source": [
    "df_spend.resample('W').rolling(5).sum().plot()"
   ]
  }
 ]
}