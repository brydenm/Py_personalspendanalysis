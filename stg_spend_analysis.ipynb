{
 "metadata": {
  "language_info": {
   "codemirror_mode": {
    "name": "ipython",
    "version": 3
   },
   "file_extension": ".py",
   "mimetype": "text/x-python",
   "name": "python",
   "nbconvert_exporter": "python",
   "pygments_lexer": "ipython3",
   "version": "3.9.2-final"
  },
  "orig_nbformat": 2,
  "kernelspec": {
   "name": "python3",
   "display_name": "Python 3.9.2 64-bit",
   "metadata": {
    "interpreter": {
     "hash": "f5706f32146ba0a5d7d687a741e1fac33937c87e76b1ddff35b11af1e096be64"
    }
   }
  }
 },
 "nbformat": 4,
 "nbformat_minor": 2,
 "cells": [
  {
   "source": [
    "# Analysis on Personal Spending\n",
    "\n",
    "### Import bank transactions\n",
    "### Extrapolate into the future"
   ],
   "cell_type": "markdown",
   "metadata": {}
  },
  {
   "cell_type": "code",
   "execution_count": 125,
   "metadata": {},
   "outputs": [],
   "source": [
    "import pandas as pd\n",
    "import os\n",
    "import matplotlib.pyplot as plt"
   ]
  },
  {
   "cell_type": "code",
   "execution_count": 126,
   "metadata": {},
   "outputs": [
    {
     "output_type": "stream",
     "name": "stdout",
     "text": [
      "loc:  C:\\Users\\mcleodb\\Documents\\SpendFiles\\trans140321 loan1.csv\nloc:  C:\\Users\\mcleodb\\Documents\\SpendFiles\\trans140321 loan2.csv\nloc:  C:\\Users\\mcleodb\\Documents\\SpendFiles\\trans140321 sav.csv\nloc:  C:\\Users\\mcleodb\\Documents\\SpendFiles\\trans140321 xcc.csv\n"
     ]
    }
   ],
   "source": [
    "#note I had issues with one of the files having additional colummns due to the values containing 'commas' - manually corrected this file.\n",
    "#ideally I'd export in a different format, or rpelace the commas before epxortin  but neither are possible in this case\n",
    "\n",
    "#folder containing one or more csv file to import\n",
    "inputfolder = 'C:\\\\Users\\\\mcleodb\\\\Documents\\\\SpendFiles\\\\'\n",
    "os.chdir(inputfolder)\n",
    "files = os.listdir()\n",
    "templist = []\n",
    "#import each file to temp dataframe and append to the main one - adding column to capture the source\n",
    "for i in files:\n",
    "    loc = inputfolder + i\n",
    "    print('loc: ',loc)\n",
    "    tempdf = pd.read_csv(loc)\n",
    "    tempdf['sourcefile'] = i\n",
    "    templist.append(tempdf)\n",
    "    dfraw = pd.concat(templist)"
   ]
  },
  {
   "cell_type": "code",
   "execution_count": 140,
   "metadata": {},
   "outputs": [],
   "source": [
    "#data cleaning - formatting dates, and consolidating debit/credit to single column\n",
    "dfraw['Debit_neg'] = dfraw['Debit'] * -1\n",
    "dfraw['dr_cr'] = dfraw[['Debit_neg','Credit']].sum(axis=1)\n",
    "df = dfraw[['Description', 'dr_cr', 'Category',\n",
    "       'SubCategory', 'sourcefile']].copy() \n",
    "df['Date_Formatted'] = pd.to_datetime(dfraw['Date'],format=r'%Y%m%d')"
   ]
  },
  {
   "cell_type": "code",
   "execution_count": 137,
   "metadata": {},
   "outputs": [
    {
     "output_type": "execute_result",
     "data": {
      "text/plain": [
       "       Description   dr_cr  Debit_neg  Credit    Balance Category SubCategory  \\\n",
       "0  Repaymt A/C Tfr  345.69        NaN  345.69  376966.33      NaN         NaN   \n",
       "1  Repaymt A/C Tfr   23.31        NaN   23.31  377312.02      NaN         NaN   \n",
       "2        Admin Fee    0.00        NaN    0.00  377335.33      NaN         NaN   \n",
       "3         Interest -649.01    -649.01     NaN  377335.33      NaN         NaN   \n",
       "4  Repaymt A/C Tfr  437.98        NaN  437.98  376686.32      NaN         NaN   \n",
       "\n",
       "              sourcefile Date_Formatted  \n",
       "0  trans140321 loan1.csv     2021-03-13  \n",
       "1  trans140321 loan1.csv     2021-03-12  \n",
       "2  trans140321 loan1.csv     2021-03-08  \n",
       "3  trans140321 loan1.csv     2021-03-08  \n",
       "4  trans140321 loan1.csv     2021-03-07  "
      ],
      "text/html": "<div>\n<style scoped>\n    .dataframe tbody tr th:only-of-type {\n        vertical-align: middle;\n    }\n\n    .dataframe tbody tr th {\n        vertical-align: top;\n    }\n\n    .dataframe thead th {\n        text-align: right;\n    }\n</style>\n<table border=\"1\" class=\"dataframe\">\n  <thead>\n    <tr style=\"text-align: right;\">\n      <th></th>\n      <th>Description</th>\n      <th>dr_cr</th>\n      <th>Debit_neg</th>\n      <th>Credit</th>\n      <th>Balance</th>\n      <th>Category</th>\n      <th>SubCategory</th>\n      <th>sourcefile</th>\n      <th>Date_Formatted</th>\n    </tr>\n  </thead>\n  <tbody>\n    <tr>\n      <th>0</th>\n      <td>Repaymt A/C Tfr</td>\n      <td>345.69</td>\n      <td>NaN</td>\n      <td>345.69</td>\n      <td>376966.33</td>\n      <td>NaN</td>\n      <td>NaN</td>\n      <td>trans140321 loan1.csv</td>\n      <td>2021-03-13</td>\n    </tr>\n    <tr>\n      <th>1</th>\n      <td>Repaymt A/C Tfr</td>\n      <td>23.31</td>\n      <td>NaN</td>\n      <td>23.31</td>\n      <td>377312.02</td>\n      <td>NaN</td>\n      <td>NaN</td>\n      <td>trans140321 loan1.csv</td>\n      <td>2021-03-12</td>\n    </tr>\n    <tr>\n      <th>2</th>\n      <td>Admin Fee</td>\n      <td>0.00</td>\n      <td>NaN</td>\n      <td>0.00</td>\n      <td>377335.33</td>\n      <td>NaN</td>\n      <td>NaN</td>\n      <td>trans140321 loan1.csv</td>\n      <td>2021-03-08</td>\n    </tr>\n    <tr>\n      <th>3</th>\n      <td>Interest</td>\n      <td>-649.01</td>\n      <td>-649.01</td>\n      <td>NaN</td>\n      <td>377335.33</td>\n      <td>NaN</td>\n      <td>NaN</td>\n      <td>trans140321 loan1.csv</td>\n      <td>2021-03-08</td>\n    </tr>\n    <tr>\n      <th>4</th>\n      <td>Repaymt A/C Tfr</td>\n      <td>437.98</td>\n      <td>NaN</td>\n      <td>437.98</td>\n      <td>376686.32</td>\n      <td>NaN</td>\n      <td>NaN</td>\n      <td>trans140321 loan1.csv</td>\n      <td>2021-03-07</td>\n    </tr>\n  </tbody>\n</table>\n</div>"
     },
     "metadata": {},
     "execution_count": 137
    }
   ],
   "source": [
    "df.head()"
   ]
  },
  {
   "cell_type": "code",
   "execution_count": 138,
   "metadata": {},
   "outputs": [
    {
     "output_type": "execute_result",
     "data": {
      "text/plain": [
       "trans140321 sav.csv      880\n",
       "trans140321 xcc.csv      323\n",
       "trans140321 loan2.csv    128\n",
       "trans140321 loan1.csv     76\n",
       "Name: sourcefile, dtype: int64"
      ]
     },
     "metadata": {},
     "execution_count": 138
    }
   ],
   "source": [
    "df['sourcefile'].value_counts()"
   ]
  },
  {
   "cell_type": "code",
   "execution_count": 139,
   "metadata": {},
   "outputs": [
    {
     "output_type": "stream",
     "name": "stdout",
     "text": [
      "<class 'pandas.core.frame.DataFrame'>\nInt64Index: 1407 entries, 0 to 322\nData columns (total 9 columns):\n #   Column          Non-Null Count  Dtype         \n---  ------          --------------  -----         \n 0   Description     1407 non-null   object        \n 1   dr_cr           1407 non-null   float64       \n 2   Debit_neg       1161 non-null   float64       \n 3   Credit          246 non-null    float64       \n 4   Balance         1084 non-null   float64       \n 5   Category        1203 non-null   object        \n 6   SubCategory     1203 non-null   object        \n 7   sourcefile      1407 non-null   object        \n 8   Date_Formatted  1407 non-null   datetime64[ns]\ndtypes: datetime64[ns](1), float64(4), object(4)\nmemory usage: 109.9+ KB\n"
     ]
    }
   ],
   "source": [
    "df.info()"
   ]
  },
  {
   "cell_type": "code",
   "execution_count": 145,
   "metadata": {},
   "outputs": [],
   "source": [
    "df.to_csv('export.csv')"
   ]
  }
 ]
}